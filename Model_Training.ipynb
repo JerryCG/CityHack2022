{
 "cells": [
  {
   "cell_type": "code",
   "execution_count": 110,
   "metadata": {
    "collapsed": true
   },
   "outputs": [],
   "source": [
    "import pandas as pd\n",
    "import numpy as np\n",
    "from sklearn.model_selection import train_test_split\n",
    "import warnings\n",
    "warnings.filterwarnings(\"ignore\")"
   ]
  },
  {
   "cell_type": "code",
   "execution_count": 111,
   "outputs": [
    {
     "data": {
      "text/plain": "   id  A1_Score  A2_Score  A3_Score  A4_Score  A5_Score  A6_Score  A7_Score  \\\n0   1         1         1         1         1         0         0         1   \n1   2         1         1         0         1         0         0         0   \n2   3         1         1         0         1         1         0         1   \n3   4         1         1         0         1         0         0         1   \n4   5         1         0         0         0         0         0         0   \n\n   A8_Score  A9_Score  ...  gender       ethnicity jundice austim  \\\n0         1         0  ...       f  White-European      no     no   \n1         1         0  ...       m          Latino      no    yes   \n2         1         1  ...       m          Latino     yes    yes   \n3         1         0  ...       f  White-European      no    yes   \n4         1         0  ...       f               ?      no     no   \n\n   contry_of_res used_app_before result    age_desc  relation Class/ASD  \n0  United States              no      6  4-11 years      Self        NO  \n1         Brazil              no      5  4-11 years      Self        NO  \n2          Spain              no      8  4-11 years    Parent       YES  \n3  United States              no      6  4-11 years      Self        NO  \n4          Egypt              no      2  4-11 years         ?        NO  \n\n[5 rows x 22 columns]",
      "text/html": "<div>\n<style scoped>\n    .dataframe tbody tr th:only-of-type {\n        vertical-align: middle;\n    }\n\n    .dataframe tbody tr th {\n        vertical-align: top;\n    }\n\n    .dataframe thead th {\n        text-align: right;\n    }\n</style>\n<table border=\"1\" class=\"dataframe\">\n  <thead>\n    <tr style=\"text-align: right;\">\n      <th></th>\n      <th>id</th>\n      <th>A1_Score</th>\n      <th>A2_Score</th>\n      <th>A3_Score</th>\n      <th>A4_Score</th>\n      <th>A5_Score</th>\n      <th>A6_Score</th>\n      <th>A7_Score</th>\n      <th>A8_Score</th>\n      <th>A9_Score</th>\n      <th>...</th>\n      <th>gender</th>\n      <th>ethnicity</th>\n      <th>jundice</th>\n      <th>austim</th>\n      <th>contry_of_res</th>\n      <th>used_app_before</th>\n      <th>result</th>\n      <th>age_desc</th>\n      <th>relation</th>\n      <th>Class/ASD</th>\n    </tr>\n  </thead>\n  <tbody>\n    <tr>\n      <th>0</th>\n      <td>1</td>\n      <td>1</td>\n      <td>1</td>\n      <td>1</td>\n      <td>1</td>\n      <td>0</td>\n      <td>0</td>\n      <td>1</td>\n      <td>1</td>\n      <td>0</td>\n      <td>...</td>\n      <td>f</td>\n      <td>White-European</td>\n      <td>no</td>\n      <td>no</td>\n      <td>United States</td>\n      <td>no</td>\n      <td>6</td>\n      <td>4-11 years</td>\n      <td>Self</td>\n      <td>NO</td>\n    </tr>\n    <tr>\n      <th>1</th>\n      <td>2</td>\n      <td>1</td>\n      <td>1</td>\n      <td>0</td>\n      <td>1</td>\n      <td>0</td>\n      <td>0</td>\n      <td>0</td>\n      <td>1</td>\n      <td>0</td>\n      <td>...</td>\n      <td>m</td>\n      <td>Latino</td>\n      <td>no</td>\n      <td>yes</td>\n      <td>Brazil</td>\n      <td>no</td>\n      <td>5</td>\n      <td>4-11 years</td>\n      <td>Self</td>\n      <td>NO</td>\n    </tr>\n    <tr>\n      <th>2</th>\n      <td>3</td>\n      <td>1</td>\n      <td>1</td>\n      <td>0</td>\n      <td>1</td>\n      <td>1</td>\n      <td>0</td>\n      <td>1</td>\n      <td>1</td>\n      <td>1</td>\n      <td>...</td>\n      <td>m</td>\n      <td>Latino</td>\n      <td>yes</td>\n      <td>yes</td>\n      <td>Spain</td>\n      <td>no</td>\n      <td>8</td>\n      <td>4-11 years</td>\n      <td>Parent</td>\n      <td>YES</td>\n    </tr>\n    <tr>\n      <th>3</th>\n      <td>4</td>\n      <td>1</td>\n      <td>1</td>\n      <td>0</td>\n      <td>1</td>\n      <td>0</td>\n      <td>0</td>\n      <td>1</td>\n      <td>1</td>\n      <td>0</td>\n      <td>...</td>\n      <td>f</td>\n      <td>White-European</td>\n      <td>no</td>\n      <td>yes</td>\n      <td>United States</td>\n      <td>no</td>\n      <td>6</td>\n      <td>4-11 years</td>\n      <td>Self</td>\n      <td>NO</td>\n    </tr>\n    <tr>\n      <th>4</th>\n      <td>5</td>\n      <td>1</td>\n      <td>0</td>\n      <td>0</td>\n      <td>0</td>\n      <td>0</td>\n      <td>0</td>\n      <td>0</td>\n      <td>1</td>\n      <td>0</td>\n      <td>...</td>\n      <td>f</td>\n      <td>?</td>\n      <td>no</td>\n      <td>no</td>\n      <td>Egypt</td>\n      <td>no</td>\n      <td>2</td>\n      <td>4-11 years</td>\n      <td>?</td>\n      <td>NO</td>\n    </tr>\n  </tbody>\n</table>\n<p>5 rows × 22 columns</p>\n</div>"
     },
     "execution_count": 111,
     "metadata": {},
     "output_type": "execute_result"
    }
   ],
   "source": [
    "rawdf = pd.read_csv(\"csv_result-Autism-Child-Data.csv\") # This dataset is for child\n",
    "rawdf.head()"
   ],
   "metadata": {
    "collapsed": false,
    "pycharm": {
     "name": "#%%\n"
    }
   }
  },
  {
   "cell_type": "markdown",
   "source": [
    "### Data cleaning"
   ],
   "metadata": {
    "collapsed": false,
    "pycharm": {
     "name": "#%% md\n"
    }
   }
  },
  {
   "cell_type": "code",
   "execution_count": 112,
   "outputs": [
    {
     "data": {
      "text/plain": "     A1_Score  A2_Score  A3_Score  A4_Score  A5_Score  A6_Score  A7_Score  \\\n0           1         1         1         1         0         0         1   \n1           1         1         0         1         0         0         0   \n2           1         1         0         1         1         0         1   \n3           1         1         0         1         0         0         1   \n4           1         0         0         0         0         0         0   \n..        ...       ...       ...       ...       ...       ...       ...   \n699         0         1         0         1         1         0         1   \n700         1         0         0         0         0         0         0   \n701         1         0         1         1         1         0         1   \n702         1         0         0         1         1         0         1   \n703         1         0         1         1         1         0         1   \n\n     A8_Score  A9_Score  A10_Score age gender jundice  result austim  \n0           1         0          0   5      f      no       6     no  \n1           1         0          1   5      m      no       5    yes  \n2           1         1          1   5      m     yes       8    yes  \n3           1         0          1   7      f      no       6    yes  \n4           1         0          0   7      f      no       2     no  \n..        ...       ...        ...  ..    ...     ...     ...    ...  \n699         1         1          1   5      f      no       7     no  \n700         1         0          1   7      m      no       3     no  \n701         1         0          1   5      f      no       7     no  \n702         0         1          1   7      m      no       6     no  \n703         1         1          1   5      f      no       8     no  \n\n[704 rows x 15 columns]",
      "text/html": "<div>\n<style scoped>\n    .dataframe tbody tr th:only-of-type {\n        vertical-align: middle;\n    }\n\n    .dataframe tbody tr th {\n        vertical-align: top;\n    }\n\n    .dataframe thead th {\n        text-align: right;\n    }\n</style>\n<table border=\"1\" class=\"dataframe\">\n  <thead>\n    <tr style=\"text-align: right;\">\n      <th></th>\n      <th>A1_Score</th>\n      <th>A2_Score</th>\n      <th>A3_Score</th>\n      <th>A4_Score</th>\n      <th>A5_Score</th>\n      <th>A6_Score</th>\n      <th>A7_Score</th>\n      <th>A8_Score</th>\n      <th>A9_Score</th>\n      <th>A10_Score</th>\n      <th>age</th>\n      <th>gender</th>\n      <th>jundice</th>\n      <th>result</th>\n      <th>austim</th>\n    </tr>\n  </thead>\n  <tbody>\n    <tr>\n      <th>0</th>\n      <td>1</td>\n      <td>1</td>\n      <td>1</td>\n      <td>1</td>\n      <td>0</td>\n      <td>0</td>\n      <td>1</td>\n      <td>1</td>\n      <td>0</td>\n      <td>0</td>\n      <td>5</td>\n      <td>f</td>\n      <td>no</td>\n      <td>6</td>\n      <td>no</td>\n    </tr>\n    <tr>\n      <th>1</th>\n      <td>1</td>\n      <td>1</td>\n      <td>0</td>\n      <td>1</td>\n      <td>0</td>\n      <td>0</td>\n      <td>0</td>\n      <td>1</td>\n      <td>0</td>\n      <td>1</td>\n      <td>5</td>\n      <td>m</td>\n      <td>no</td>\n      <td>5</td>\n      <td>yes</td>\n    </tr>\n    <tr>\n      <th>2</th>\n      <td>1</td>\n      <td>1</td>\n      <td>0</td>\n      <td>1</td>\n      <td>1</td>\n      <td>0</td>\n      <td>1</td>\n      <td>1</td>\n      <td>1</td>\n      <td>1</td>\n      <td>5</td>\n      <td>m</td>\n      <td>yes</td>\n      <td>8</td>\n      <td>yes</td>\n    </tr>\n    <tr>\n      <th>3</th>\n      <td>1</td>\n      <td>1</td>\n      <td>0</td>\n      <td>1</td>\n      <td>0</td>\n      <td>0</td>\n      <td>1</td>\n      <td>1</td>\n      <td>0</td>\n      <td>1</td>\n      <td>7</td>\n      <td>f</td>\n      <td>no</td>\n      <td>6</td>\n      <td>yes</td>\n    </tr>\n    <tr>\n      <th>4</th>\n      <td>1</td>\n      <td>0</td>\n      <td>0</td>\n      <td>0</td>\n      <td>0</td>\n      <td>0</td>\n      <td>0</td>\n      <td>1</td>\n      <td>0</td>\n      <td>0</td>\n      <td>7</td>\n      <td>f</td>\n      <td>no</td>\n      <td>2</td>\n      <td>no</td>\n    </tr>\n    <tr>\n      <th>...</th>\n      <td>...</td>\n      <td>...</td>\n      <td>...</td>\n      <td>...</td>\n      <td>...</td>\n      <td>...</td>\n      <td>...</td>\n      <td>...</td>\n      <td>...</td>\n      <td>...</td>\n      <td>...</td>\n      <td>...</td>\n      <td>...</td>\n      <td>...</td>\n      <td>...</td>\n    </tr>\n    <tr>\n      <th>699</th>\n      <td>0</td>\n      <td>1</td>\n      <td>0</td>\n      <td>1</td>\n      <td>1</td>\n      <td>0</td>\n      <td>1</td>\n      <td>1</td>\n      <td>1</td>\n      <td>1</td>\n      <td>5</td>\n      <td>f</td>\n      <td>no</td>\n      <td>7</td>\n      <td>no</td>\n    </tr>\n    <tr>\n      <th>700</th>\n      <td>1</td>\n      <td>0</td>\n      <td>0</td>\n      <td>0</td>\n      <td>0</td>\n      <td>0</td>\n      <td>0</td>\n      <td>1</td>\n      <td>0</td>\n      <td>1</td>\n      <td>7</td>\n      <td>m</td>\n      <td>no</td>\n      <td>3</td>\n      <td>no</td>\n    </tr>\n    <tr>\n      <th>701</th>\n      <td>1</td>\n      <td>0</td>\n      <td>1</td>\n      <td>1</td>\n      <td>1</td>\n      <td>0</td>\n      <td>1</td>\n      <td>1</td>\n      <td>0</td>\n      <td>1</td>\n      <td>5</td>\n      <td>f</td>\n      <td>no</td>\n      <td>7</td>\n      <td>no</td>\n    </tr>\n    <tr>\n      <th>702</th>\n      <td>1</td>\n      <td>0</td>\n      <td>0</td>\n      <td>1</td>\n      <td>1</td>\n      <td>0</td>\n      <td>1</td>\n      <td>0</td>\n      <td>1</td>\n      <td>1</td>\n      <td>7</td>\n      <td>m</td>\n      <td>no</td>\n      <td>6</td>\n      <td>no</td>\n    </tr>\n    <tr>\n      <th>703</th>\n      <td>1</td>\n      <td>0</td>\n      <td>1</td>\n      <td>1</td>\n      <td>1</td>\n      <td>0</td>\n      <td>1</td>\n      <td>1</td>\n      <td>1</td>\n      <td>1</td>\n      <td>5</td>\n      <td>f</td>\n      <td>no</td>\n      <td>8</td>\n      <td>no</td>\n    </tr>\n  </tbody>\n</table>\n<p>704 rows × 15 columns</p>\n</div>"
     },
     "execution_count": 112,
     "metadata": {},
     "output_type": "execute_result"
    }
   ],
   "source": [
    "df = rawdf[[\"A1_Score\",\"A2_Score\",\"A3_Score\",\"A4_Score\",\"A5_Score\",\"A6_Score\",\"A7_Score\",\"A8_Score\",\"A9_Score\",\"A10_Score\",\"age\",\"gender\",\"jundice\",\"result\",\"austim\"]]\n",
    "df"
   ],
   "metadata": {
    "collapsed": false,
    "pycharm": {
     "name": "#%%\n"
    }
   }
  },
  {
   "cell_type": "code",
   "execution_count": 113,
   "outputs": [
    {
     "data": {
      "text/plain": "   A1_Score  A2_Score  A3_Score  A4_Score  A5_Score  A6_Score  A7_Score  \\\n0         1         1         1         1         0         0         1   \n1         1         1         0         1         0         0         0   \n2         1         1         0         1         1         0         1   \n3         1         1         0         1         0         0         1   \n4         1         0         0         0         0         0         0   \n\n   A8_Score  A9_Score  A10_Score  age gender jundice  result austim  \n0         1         0          0    5      f      no       6     no  \n1         1         0          1    5      m      no       5    yes  \n2         1         1          1    5      m     yes       8    yes  \n3         1         0          1    7      f      no       6    yes  \n4         1         0          0    7      f      no       2     no  ",
      "text/html": "<div>\n<style scoped>\n    .dataframe tbody tr th:only-of-type {\n        vertical-align: middle;\n    }\n\n    .dataframe tbody tr th {\n        vertical-align: top;\n    }\n\n    .dataframe thead th {\n        text-align: right;\n    }\n</style>\n<table border=\"1\" class=\"dataframe\">\n  <thead>\n    <tr style=\"text-align: right;\">\n      <th></th>\n      <th>A1_Score</th>\n      <th>A2_Score</th>\n      <th>A3_Score</th>\n      <th>A4_Score</th>\n      <th>A5_Score</th>\n      <th>A6_Score</th>\n      <th>A7_Score</th>\n      <th>A8_Score</th>\n      <th>A9_Score</th>\n      <th>A10_Score</th>\n      <th>age</th>\n      <th>gender</th>\n      <th>jundice</th>\n      <th>result</th>\n      <th>austim</th>\n    </tr>\n  </thead>\n  <tbody>\n    <tr>\n      <th>0</th>\n      <td>1</td>\n      <td>1</td>\n      <td>1</td>\n      <td>1</td>\n      <td>0</td>\n      <td>0</td>\n      <td>1</td>\n      <td>1</td>\n      <td>0</td>\n      <td>0</td>\n      <td>5</td>\n      <td>f</td>\n      <td>no</td>\n      <td>6</td>\n      <td>no</td>\n    </tr>\n    <tr>\n      <th>1</th>\n      <td>1</td>\n      <td>1</td>\n      <td>0</td>\n      <td>1</td>\n      <td>0</td>\n      <td>0</td>\n      <td>0</td>\n      <td>1</td>\n      <td>0</td>\n      <td>1</td>\n      <td>5</td>\n      <td>m</td>\n      <td>no</td>\n      <td>5</td>\n      <td>yes</td>\n    </tr>\n    <tr>\n      <th>2</th>\n      <td>1</td>\n      <td>1</td>\n      <td>0</td>\n      <td>1</td>\n      <td>1</td>\n      <td>0</td>\n      <td>1</td>\n      <td>1</td>\n      <td>1</td>\n      <td>1</td>\n      <td>5</td>\n      <td>m</td>\n      <td>yes</td>\n      <td>8</td>\n      <td>yes</td>\n    </tr>\n    <tr>\n      <th>3</th>\n      <td>1</td>\n      <td>1</td>\n      <td>0</td>\n      <td>1</td>\n      <td>0</td>\n      <td>0</td>\n      <td>1</td>\n      <td>1</td>\n      <td>0</td>\n      <td>1</td>\n      <td>7</td>\n      <td>f</td>\n      <td>no</td>\n      <td>6</td>\n      <td>yes</td>\n    </tr>\n    <tr>\n      <th>4</th>\n      <td>1</td>\n      <td>0</td>\n      <td>0</td>\n      <td>0</td>\n      <td>0</td>\n      <td>0</td>\n      <td>0</td>\n      <td>1</td>\n      <td>0</td>\n      <td>0</td>\n      <td>7</td>\n      <td>f</td>\n      <td>no</td>\n      <td>2</td>\n      <td>no</td>\n    </tr>\n  </tbody>\n</table>\n</div>"
     },
     "execution_count": 113,
     "metadata": {},
     "output_type": "execute_result"
    }
   ],
   "source": [
    "index = []\n",
    "for i in range(df.shape[0]):\n",
    "    for j in range(df.shape[1]):\n",
    "        temp = df.iloc[i,j]\n",
    "        if temp == \"?\":\n",
    "            index.append(i)\n",
    "            break\n",
    "adf = df.drop(index)\n",
    "adf[['age']] = adf[['age']].apply(pd.to_numeric)\n",
    "adf.head()"
   ],
   "metadata": {
    "collapsed": false,
    "pycharm": {
     "name": "#%%\n"
    }
   }
  },
  {
   "cell_type": "code",
   "execution_count": 114,
   "outputs": [
    {
     "data": {
      "text/plain": "   A1_Score  A2_Score  A3_Score  A4_Score  A5_Score  A6_Score  A7_Score  \\\n0         1         1         1         1         0         0         1   \n1         1         1         0         1         0         0         0   \n2         1         1         0         1         1         0         1   \n3         1         1         0         1         0         0         1   \n4         1         0         0         0         0         0         0   \n\n   A8_Score  A9_Score  A10_Score  age  result  gender_f  gender_m  jundice_no  \\\n0         1         0          0    5       6         1         0           1   \n1         1         0          1    5       5         0         1           1   \n2         1         1          1    5       8         0         1           0   \n3         1         0          1    7       6         1         0           1   \n4         1         0          0    7       2         1         0           1   \n\n   jundice_yes  \n0            0  \n1            0  \n2            1  \n3            0  \n4            0  ",
      "text/html": "<div>\n<style scoped>\n    .dataframe tbody tr th:only-of-type {\n        vertical-align: middle;\n    }\n\n    .dataframe tbody tr th {\n        vertical-align: top;\n    }\n\n    .dataframe thead th {\n        text-align: right;\n    }\n</style>\n<table border=\"1\" class=\"dataframe\">\n  <thead>\n    <tr style=\"text-align: right;\">\n      <th></th>\n      <th>A1_Score</th>\n      <th>A2_Score</th>\n      <th>A3_Score</th>\n      <th>A4_Score</th>\n      <th>A5_Score</th>\n      <th>A6_Score</th>\n      <th>A7_Score</th>\n      <th>A8_Score</th>\n      <th>A9_Score</th>\n      <th>A10_Score</th>\n      <th>age</th>\n      <th>result</th>\n      <th>gender_f</th>\n      <th>gender_m</th>\n      <th>jundice_no</th>\n      <th>jundice_yes</th>\n    </tr>\n  </thead>\n  <tbody>\n    <tr>\n      <th>0</th>\n      <td>1</td>\n      <td>1</td>\n      <td>1</td>\n      <td>1</td>\n      <td>0</td>\n      <td>0</td>\n      <td>1</td>\n      <td>1</td>\n      <td>0</td>\n      <td>0</td>\n      <td>5</td>\n      <td>6</td>\n      <td>1</td>\n      <td>0</td>\n      <td>1</td>\n      <td>0</td>\n    </tr>\n    <tr>\n      <th>1</th>\n      <td>1</td>\n      <td>1</td>\n      <td>0</td>\n      <td>1</td>\n      <td>0</td>\n      <td>0</td>\n      <td>0</td>\n      <td>1</td>\n      <td>0</td>\n      <td>1</td>\n      <td>5</td>\n      <td>5</td>\n      <td>0</td>\n      <td>1</td>\n      <td>1</td>\n      <td>0</td>\n    </tr>\n    <tr>\n      <th>2</th>\n      <td>1</td>\n      <td>1</td>\n      <td>0</td>\n      <td>1</td>\n      <td>1</td>\n      <td>0</td>\n      <td>1</td>\n      <td>1</td>\n      <td>1</td>\n      <td>1</td>\n      <td>5</td>\n      <td>8</td>\n      <td>0</td>\n      <td>1</td>\n      <td>0</td>\n      <td>1</td>\n    </tr>\n    <tr>\n      <th>3</th>\n      <td>1</td>\n      <td>1</td>\n      <td>0</td>\n      <td>1</td>\n      <td>0</td>\n      <td>0</td>\n      <td>1</td>\n      <td>1</td>\n      <td>0</td>\n      <td>1</td>\n      <td>7</td>\n      <td>6</td>\n      <td>1</td>\n      <td>0</td>\n      <td>1</td>\n      <td>0</td>\n    </tr>\n    <tr>\n      <th>4</th>\n      <td>1</td>\n      <td>0</td>\n      <td>0</td>\n      <td>0</td>\n      <td>0</td>\n      <td>0</td>\n      <td>0</td>\n      <td>1</td>\n      <td>0</td>\n      <td>0</td>\n      <td>7</td>\n      <td>2</td>\n      <td>1</td>\n      <td>0</td>\n      <td>1</td>\n      <td>0</td>\n    </tr>\n  </tbody>\n</table>\n</div>"
     },
     "execution_count": 114,
     "metadata": {},
     "output_type": "execute_result"
    }
   ],
   "source": [
    "features_raw = adf[[\"A1_Score\",\"A2_Score\",\"A3_Score\",\"A4_Score\",\"A5_Score\",\"A6_Score\",\"A7_Score\",\"A8_Score\",\"A9_Score\",\"A10_Score\",\"age\",\"gender\",\"jundice\",\"result\"]]\n",
    "\n",
    "features_final = pd.get_dummies(features_raw)\n",
    "response_final = adf[[\"austim\"]]\n",
    "features_final.head()"
   ],
   "metadata": {
    "collapsed": false,
    "pycharm": {
     "name": "#%%\n"
    }
   }
  },
  {
   "cell_type": "code",
   "execution_count": 115,
   "outputs": [],
   "source": [
    "# Split the data set\n",
    "from sklearn.model_selection import train_test_split\n",
    "x_train, x_test, y_train, y_test = train_test_split(features_final, response_final, test_size=0.3, random_state=3)"
   ],
   "metadata": {
    "collapsed": false,
    "pycharm": {
     "name": "#%%\n"
    }
   }
  },
  {
   "cell_type": "markdown",
   "source": [
    "## 1. Random Forest"
   ],
   "metadata": {
    "collapsed": false,
    "pycharm": {
     "name": "#%% md\n"
    }
   }
  },
  {
   "cell_type": "code",
   "execution_count": 116,
   "outputs": [
    {
     "name": "stdout",
     "output_type": "stream",
     "text": [
      "0.8447082494969818\n"
     ]
    },
    {
     "data": {
      "text/plain": "0.8436018957345972"
     },
     "execution_count": 116,
     "metadata": {},
     "output_type": "execute_result"
    }
   ],
   "source": [
    "from sklearn.model_selection import cross_val_score\n",
    "from sklearn import metrics\n",
    "# train-test split\n",
    "from sklearn.ensemble import RandomForestClassifier\n",
    "\n",
    "rf = RandomForestClassifier(n_estimators=10, random_state=1)\n",
    "cv_result = cross_val_score(rf, features_final, response_final, cv=10)\n",
    "print(cv_result.mean())  # cv error\n",
    "\n",
    "rf.fit(x_train,y_train)\n",
    "\n",
    "rf_pred = [x for x in rf.predict(x_test)]\n",
    "\n",
    "accuracy = metrics.accuracy_score(rf_pred,y_test)\n",
    "accuracy"
   ],
   "metadata": {
    "collapsed": false,
    "pycharm": {
     "name": "#%%\n"
    }
   }
  },
  {
   "cell_type": "markdown",
   "source": [
    "## 2. SVM"
   ],
   "metadata": {
    "collapsed": false,
    "pycharm": {
     "name": "#%% md\n"
    }
   }
  },
  {
   "cell_type": "code",
   "execution_count": 117,
   "outputs": [
    {
     "name": "stdout",
     "output_type": "stream",
     "text": [
      "0.8703822937625756\n"
     ]
    },
    {
     "data": {
      "text/plain": "0.8530805687203792"
     },
     "execution_count": 117,
     "metadata": {},
     "output_type": "execute_result"
    }
   ],
   "source": [
    "from sklearn import svm\n",
    "svc = svm.SVC(kernel='linear', C=1, gamma=2)\n",
    "cv_result = cross_val_score(svc, features_final, response_final, cv=10)\n",
    "print(cv_result.mean())\n",
    "\n",
    "svc.fit(x_train,y_train)\n",
    "svc_pred = svc.predict(x_test)\n",
    "accuracy = metrics.accuracy_score(svc_pred,y_test)\n",
    "accuracy"
   ],
   "metadata": {
    "collapsed": false,
    "pycharm": {
     "name": "#%%\n"
    }
   }
  },
  {
   "cell_type": "markdown",
   "source": [
    "## 3. KNN"
   ],
   "metadata": {
    "collapsed": false,
    "pycharm": {
     "name": "#%% md\n"
    }
   }
  },
  {
   "cell_type": "code",
   "execution_count": 118,
   "outputs": [
    {
     "name": "stdout",
     "output_type": "stream",
     "text": [
      "0.8632595573440642\n"
     ]
    },
    {
     "data": {
      "text/plain": "0.8483412322274881"
     },
     "execution_count": 118,
     "metadata": {},
     "output_type": "execute_result"
    }
   ],
   "source": [
    "from sklearn import neighbors\n",
    "knn = neighbors.KNeighborsClassifier(n_neighbors=10)\n",
    "cv_result = cross_val_score(knn, features_final, response_final, cv=10)\n",
    "print(cv_result.mean())\n",
    "\n",
    "knn.fit(x_train,y_train)\n",
    "knn_pred = knn.predict(x_test)\n",
    "accuracy = metrics.accuracy_score(knn_pred,y_test)\n",
    "accuracy\n"
   ],
   "metadata": {
    "collapsed": false,
    "pycharm": {
     "name": "#%%\n"
    }
   }
  },
  {
   "cell_type": "code",
   "execution_count": 119,
   "outputs": [
    {
     "name": "stdout",
     "output_type": "stream",
     "text": [
      "K=5: 0.8461971830985915\n",
      "K=6: 0.8661167002012071\n",
      "K=7: 0.85897384305835\n",
      "K=8: 0.8646881287726357\n",
      "K=9: 0.85897384305835\n",
      "K=10: 0.8632595573440642\n",
      "K=11: 0.8604225352112677\n",
      "K=12: 0.8632595573440645\n",
      "K=13: 0.8590140845070424\n",
      "K=14: 0.8675452716297787\n",
      "K=15: 0.8646881287726359\n",
      "K=16: 0.8689537223340041\n",
      "K=17: 0.8689537223340041\n",
      "K=18: 0.8703822937625756\n",
      "K=19: 0.8703822937625756\n"
     ]
    }
   ],
   "source": [
    "for i in range(5,20):\n",
    "    knn = neighbors.KNeighborsClassifier(n_neighbors=i)\n",
    "    cv_result = cross_val_score(knn, features_final, response_final, cv=10)\n",
    "    print(\"K={}: {}\".format(i,cv_result.mean()))"
   ],
   "metadata": {
    "collapsed": false,
    "pycharm": {
     "name": "#%%\n"
    }
   }
  },
  {
   "cell_type": "markdown",
   "source": [
    "## 4. Naive Bayes"
   ],
   "metadata": {
    "collapsed": false,
    "pycharm": {
     "name": "#%% md\n"
    }
   }
  },
  {
   "cell_type": "code",
   "execution_count": 120,
   "outputs": [
    {
     "name": "stdout",
     "output_type": "stream",
     "text": [
      "0.8675452716297787\n"
     ]
    },
    {
     "data": {
      "text/plain": "0.8483412322274881"
     },
     "execution_count": 120,
     "metadata": {},
     "output_type": "execute_result"
    }
   ],
   "source": [
    "from sklearn.naive_bayes import MultinomialNB\n",
    "nb = MultinomialNB()\n",
    "cv_result = cross_val_score(nb, features_final, response_final, cv=10)\n",
    "print(cv_result.mean())\n",
    "\n",
    "nb.fit(x_train,y_train)\n",
    "nb_pred = nb.predict(x_test)\n",
    "accuracy = metrics.accuracy_score(nb_pred,y_test)\n",
    "accuracy"
   ],
   "metadata": {
    "collapsed": false,
    "pycharm": {
     "name": "#%%\n"
    }
   }
  },
  {
   "cell_type": "markdown",
   "source": [
    "## 5. Lightgbm"
   ],
   "metadata": {
    "collapsed": false,
    "pycharm": {
     "name": "#%% md\n"
    }
   }
  },
  {
   "cell_type": "code",
   "execution_count": 121,
   "outputs": [
    {
     "name": "stdout",
     "output_type": "stream",
     "text": [
      "0.8703822937625756\n"
     ]
    },
    {
     "data": {
      "text/plain": "0.8530805687203792"
     },
     "execution_count": 121,
     "metadata": {},
     "output_type": "execute_result"
    }
   ],
   "source": [
    "from lightgbm import LGBMClassifier as LGBM\n",
    "lgbmfit = LGBM(learning_rate=0.01,num_leaves=15)\n",
    "cv_result = cross_val_score(lgbmfit, features_final, response_final, cv=10)\n",
    "print(cv_result.mean())\n",
    "\n",
    "lgbmfit.fit(x_train,y_train)\n",
    "lgbmfit_pred = lgbmfit.predict(x_test)\n",
    "accuracy = metrics.accuracy_score(lgbmfit_pred,y_test)\n",
    "accuracy"
   ],
   "metadata": {
    "collapsed": false,
    "pycharm": {
     "name": "#%%\n"
    }
   }
  },
  {
   "cell_type": "markdown",
   "source": [
    "## 6. HistGradientBoosting"
   ],
   "metadata": {
    "collapsed": false,
    "pycharm": {
     "name": "#%% md\n"
    }
   }
  },
  {
   "cell_type": "code",
   "execution_count": 122,
   "outputs": [
    {
     "name": "stdout",
     "output_type": "stream",
     "text": [
      "0.8475855130784709\n"
     ]
    }
   ],
   "source": [
    "from sklearn.ensemble import HistGradientBoostingClassifier as HGBC\n",
    "hgbcfit = HGBC(learning_rate=0.05,max_leaf_nodes=31, l2_regularization=1)\n",
    "cv_result = cross_val_score(hgbcfit, features_final, response_final, cv=10)\n",
    "print(cv_result.mean())\n",
    "\n",
    "hgbcfit.fit(x_train, y_train)\n",
    "hgbcfit_pred = hgbcfit.predict(x_test)"
   ],
   "metadata": {
    "collapsed": false,
    "pycharm": {
     "name": "#%%\n"
    }
   }
  },
  {
   "cell_type": "markdown",
   "source": [
    "### Compare different models"
   ],
   "metadata": {
    "collapsed": false,
    "pycharm": {
     "name": "#%% md\n"
    }
   }
  },
  {
   "cell_type": "code",
   "execution_count": 123,
   "outputs": [
    {
     "data": {
      "text/plain": "<Figure size 432x288 with 1 Axes>",
      "image/png": "[encoded data removed]"
     },
     "metadata": {
      "needs_background": "light"
     },
     "output_type": "display_data"
    }
   ],
   "source": [
    "modelname = ['RandomForest','SVM','KNN','Naive Bayes', 'LightGBM', 'HGBC']\n",
    "cv_acc = [0.8447, 0.8703, 0.8633, 0.8675, 0.8704, 0.8476]\n",
    "import matplotlib.pyplot as plt\n",
    "\n",
    "plt.plot(modelname,cv_acc,color=\"red\",marker=\"o\")\n",
    "plt.xlabel('Training Model Name')\n",
    "plt.ylabel('CV accuracy')\n",
    "plt.grid()\n",
    "plt.show()"
   ],
   "metadata": {
    "collapsed": false,
    "pycharm": {
     "name": "#%%\n"
    }
   }
  },
  {
   "cell_type": "markdown",
   "source": [],
   "metadata": {
    "collapsed": false,
    "pycharm": {
     "name": "#%% md\n"
    }
   }
  }
 ],
 "metadata": {
  "kernelspec": {
   "display_name": "Python 3",
   "language": "python",
   "name": "python3"
  },
  "language_info": {
   "codemirror_mode": {
    "name": "ipython",
    "version": 2
   },
   "file_extension": ".py",
   "mimetype": "text/x-python",
   "name": "python",
   "nbconvert_exporter": "python",
   "pygments_lexer": "ipython2",
   "version": "2.7.6"
  }
 },
 "nbformat": 4,
 "nbformat_minor": 0
}